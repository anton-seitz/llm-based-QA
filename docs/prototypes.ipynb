{
 "cells": [
  {
   "cell_type": "code",
   "execution_count": null,
   "metadata": {},
   "outputs": [],
   "source": [
    "# 1) Load all evaluation questions\n",
    "with open(\"question-sets/q_v2.json\", \"r\", encoding=\"utf-8\") as f:\n",
    "    all_questions = json.load(f)\n",
    "print(f\"Total questions: {len(all_questions)}\")\n",
    "\n",
    "# 2) Split and filter context into chunks\n",
    "context_chunks = context.split(\"\\n\\n\")\n",
    "print(f\"Total chunks: {len(context_chunks)}\")\n",
    "\n",
    "min_words = 20\n",
    "filtered_chunks = [ch for ch in context_chunks if len(ch.split()) >= min_words]\n",
    "print(f\"Chunks ≥ {min_words} words: {len(filtered_chunks)}\")\n",
    "\n",
    "# 3) Compute aggregate relevance score per chunk\n",
    "chunk_scores = []\n",
    "for idx, chunk in enumerate(filtered_chunks):\n",
    "    # Sum relevance scores across all questions\n",
    "    total_score = 0\n",
    "    for q in all_questions:\n",
    "\n",
    "        # vorversuch: String-basiertes Chunk-ranking: total_score += fuzz.partial_ratio(q[\"question\"].lower(), chunk.lower())\n",
    "    \n",
    "    # Optionally, average = total_score / len(all_questions)\n",
    "    chunk_scores.append((idx, total_score, chunk))\n",
    "\n",
    "# 4) Sort chunks by descending total_score\n",
    "chunk_scores.sort(key=lambda x: x[1], reverse=True)\n",
    "\n",
    "# 5) Select top_k most relevant chunks overall\n",
    "top_k = 5\n",
    "top_chunks = chunk_scores[:top_k]\n",
    "print(f\"Selected top {top_k} chunks based on aggregate relevance:\")\n",
    "for rank, (idx, score, _) in enumerate(top_chunks, 1):\n",
    "    print(f\"  {rank}. Chunk #{idx} — Total Score: {score}\")\n",
    "\n",
    "# 6) Build the reduced context and save\n",
    "reduced_context = \"\\n\\n\".join(chunk for (_, _, chunk) in top_chunks)\n",
    "print(f\"\\nReduced context char length: {len(reduced_context)}\")\n",
    "\n",
    "with open(\"reduced_context.txt\", \"w\", encoding=\"utf-8\") as f:\n",
    "    f.write(reduced_context)\n",
    "\n",
    "print(f\"Context length reduced by {(1 - len(reduced_context) / len(context)) * 100:.2f}%\")\n",
    "print(\"Reduced context saved to 'reduced_context.txt'\")\n"
   ]
  }
 ],
 "metadata": {
  "language_info": {
   "name": "python"
  }
 },
 "nbformat": 4,
 "nbformat_minor": 2
}
